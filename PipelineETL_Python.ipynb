{
  "nbformat": 4,
  "nbformat_minor": 0,
  "metadata": {
    "colab": {
      "provenance": [],
      "authorship_tag": "ABX9TyM5YLdlMo67ur/19B21Mttd",
      "include_colab_link": true
    },
    "kernelspec": {
      "name": "python3",
      "display_name": "Python 3"
    },
    "language_info": {
      "name": "python"
    }
  },
  "cells": [
    {
      "cell_type": "markdown",
      "metadata": {
        "id": "view-in-github",
        "colab_type": "text"
      },
      "source": [
        "<a href=\"https://colab.research.google.com/github/PatriciaFalchi/Projeto_Pipeline_ETL_Python/blob/main/PipelineETL_Python.ipynb\" target=\"_parent\"><img src=\"https://colab.research.google.com/assets/colab-badge.svg\" alt=\"Open In Colab\"/></a>"
      ]
    },
    {
      "cell_type": "markdown",
      "source": [
        "Contruindo um Pipeline ETL com Python\n",
        "\n"
      ],
      "metadata": {
        "id": "zycCf09x7ZDW"
      }
    },
    {
      "cell_type": "markdown",
      "source": [
        "Desafio de Projeto do **Santander Bootcamp 2023 - Ciência de Dados com Python.**\n",
        "\n",
        "\n",
        "O Projeto modelo é intitulado: Explorando IA Generativa em um Pipeline de ETL com Python\n",
        "[Link para acesso ao projeto modelo](https://colab.research.google.com/drive/1SF_Q3AybFPozCcoFBptDSFbMk-6IVGF-?usp=sharing#scrollTo=kNuP0SDUZMBY)\n",
        "\n",
        "## Objetivo do desafio:\n",
        "O aluno deveria criar uma pipeline de ETL com Python, inspirado no modelo original ensinado no curso.\n",
        "\n"
      ],
      "metadata": {
        "id": "9FqdVhyN7St5"
      }
    },
    {
      "cell_type": "markdown",
      "source": [
        "# Extract\n",
        "extraindo dados de uma planilha do Excel."
      ],
      "metadata": {
        "id": "-tpT88hw9hpL"
      }
    },
    {
      "cell_type": "code",
      "source": [
        "import pandas as pd\n",
        "df = pd.read_excel('funcionarios.xlsx', dtype={'Valor Bruto': float, 'Desconto': float, 'Valor Líquido': float})\n",
        "print(df)\n",
        "\n"
      ],
      "metadata": {
        "colab": {
          "base_uri": "https://localhost:8080/"
        },
        "id": "9vMS7wzW9lSQ",
        "outputId": "ff0151ed-28ec-4d76-c9e6-e1c9879f3322"
      },
      "execution_count": 83,
      "outputs": [
        {
          "output_type": "stream",
          "name": "stdout",
          "text": [
            "        Trabalhador  Tipo do Serviço        Mês  Valor Bruto  Desconto  \\\n",
            "0   Beatriz do Vale       Jardinagem  Fevereiro       3520.0      70.4   \n",
            "1   Beatriz do Vale       Jardinagem      Março       2240.0      44.8   \n",
            "2       Carlos Leme       Jardinagem      Abril       3520.0      70.4   \n",
            "3     Daniela Silva       Jardinagem       Maio       4480.0      89.6   \n",
            "4       Ana Cardoso       Jardinagem      Junho       2240.0      44.8   \n",
            "5     Eduardo Souza       Jardinagem      Julho       1920.0      38.4   \n",
            "6       Ana Cardoso       Jardinagem     Agosto       3520.0      70.4   \n",
            "7       Ana Cardoso       Jardinagem   Setembro       4160.0      83.2   \n",
            "8     Eduardo Souza       Jardinagem    Outubro       2560.0      51.2   \n",
            "9       Carlos Leme       Jardinagem   Novembro       3840.0      76.8   \n",
            "10    Daniela Silva       Jardinagem   Dezembro       3520.0      70.4   \n",
            "11    Eduardo Souza             Copa      Março       2400.0      48.0   \n",
            "12        João Maia  Serviços Gerais  Fevereiro       2400.0      48.0   \n",
            "13        João Maia  Serviços Gerais      Março       2700.0      54.0   \n",
            "14  Beatriz do Vale  Serviços Gerais      Abril       2700.0      54.0   \n",
            "15  Beatriz do Vale  Serviços Gerais       Maio       3600.0      72.0   \n",
            "16      Carlos Leme  Serviços Gerais      Junho       2400.0      48.0   \n",
            "17  Beatriz do Vale  Serviços Gerais      Julho       2700.0      54.0   \n",
            "18      Ana Cardoso  Serviços Gerais     Agosto       3600.0      72.0   \n",
            "19      Ana Cardoso  Serviços Gerais   Setembro       3900.0      78.0   \n",
            "20      Carlos Leme  Serviços Gerais   Novembro       2100.0      42.0   \n",
            "21        João Maia  Serviços Gerais   Dezembro       3600.0      72.0   \n",
            "\n",
            "    Valor Líquido  \n",
            "0          3449.6  \n",
            "1          2195.2  \n",
            "2          3449.6  \n",
            "3          4390.4  \n",
            "4          2195.2  \n",
            "5          1881.6  \n",
            "6          3449.6  \n",
            "7          4076.8  \n",
            "8          2508.8  \n",
            "9          3763.2  \n",
            "10         3449.6  \n",
            "11         2352.0  \n",
            "12         2352.0  \n",
            "13         2646.0  \n",
            "14         2646.0  \n",
            "15         3528.0  \n",
            "16         2352.0  \n",
            "17         2646.0  \n",
            "18         3528.0  \n",
            "19         3822.0  \n",
            "20         2058.0  \n",
            "21         3528.0  \n"
          ]
        }
      ]
    },
    {
      "cell_type": "markdown",
      "source": [
        "# Transform\n",
        "Agrupamento de quanto cada trabalhador recebeu por mês."
      ],
      "metadata": {
        "id": "8PYTjcIXHqtb"
      }
    },
    {
      "cell_type": "code",
      "source": [
        "trabalhador_mes = df.groupby(['Trabalhador', 'Mês']).sum()\n",
        "print(trabalhador_mes)\n",
        "\n",
        "\n",
        "\n",
        "\n",
        "\n",
        "\n"
      ],
      "metadata": {
        "colab": {
          "base_uri": "https://localhost:8080/"
        },
        "id": "qQdL1Nl0HnU7",
        "outputId": "1de3337f-0e48-4444-d780-07e3c91b3d01"
      },
      "execution_count": 86,
      "outputs": [
        {
          "output_type": "stream",
          "name": "stdout",
          "text": [
            "                           Valor Bruto  Desconto  Valor Líquido\n",
            "Trabalhador     Mês                                            \n",
            "Ana Cardoso     Agosto          7120.0     142.4         6977.6\n",
            "                Junho           2240.0      44.8         2195.2\n",
            "                Setembro        8060.0     161.2         7898.8\n",
            "Beatriz do Vale Abril           2700.0      54.0         2646.0\n",
            "                Fevereiro       3520.0      70.4         3449.6\n",
            "                Julho           2700.0      54.0         2646.0\n",
            "                Maio            3600.0      72.0         3528.0\n",
            "                Março           2240.0      44.8         2195.2\n",
            "Carlos Leme     Abril           3520.0      70.4         3449.6\n",
            "                Junho           2400.0      48.0         2352.0\n",
            "                Novembro        5940.0     118.8         5821.2\n",
            "Daniela Silva   Dezembro        3520.0      70.4         3449.6\n",
            "                Maio            4480.0      89.6         4390.4\n",
            "Eduardo Souza   Julho           1920.0      38.4         1881.6\n",
            "                Março           2400.0      48.0         2352.0\n",
            "                Outubro         2560.0      51.2         2508.8\n",
            "João Maia       Dezembro        3600.0      72.0         3528.0\n",
            "                Fevereiro       2400.0      48.0         2352.0\n",
            "                Março           2700.0      54.0         2646.0\n"
          ]
        }
      ]
    },
    {
      "cell_type": "code",
      "source": [
        "gasto_anual = df.groupby(['Mês']).sum()\n",
        "\n",
        "print(gasto_anual)"
      ],
      "metadata": {
        "colab": {
          "base_uri": "https://localhost:8080/"
        },
        "id": "Skhfon3ZqUU6",
        "outputId": "9b303ca4-3dc5-415f-e2f6-dda7cf1e9395"
      },
      "execution_count": 87,
      "outputs": [
        {
          "output_type": "stream",
          "name": "stdout",
          "text": [
            "           Valor Bruto  Desconto  Valor Líquido\n",
            "Mês                                            \n",
            "Abril           6220.0     124.4         6095.6\n",
            "Agosto          7120.0     142.4         6977.6\n",
            "Dezembro        7120.0     142.4         6977.6\n",
            "Fevereiro       5920.0     118.4         5801.6\n",
            "Julho           4620.0      92.4         4527.6\n",
            "Junho           4640.0      92.8         4547.2\n",
            "Maio            8080.0     161.6         7918.4\n",
            "Março           7340.0     146.8         7193.2\n",
            "Novembro        5940.0     118.8         5821.2\n",
            "Outubro         2560.0      51.2         2508.8\n",
            "Setembro        8060.0     161.2         7898.8\n"
          ]
        }
      ]
    },
    {
      "cell_type": "code",
      "source": [
        "with pd.ExcelWriter('Relatório.xlsx') as arquivo:\n",
        "  trabalhador_mes.to_excel(arquivo,sheet_name='trabalhador_mes')\n",
        "  gasto_anual.to_excel(arquivo,sheet_name='gasto_anual')"
      ],
      "metadata": {
        "id": "WGrWTyMhpuKg"
      },
      "execution_count": 88,
      "outputs": []
    }
  ]
}